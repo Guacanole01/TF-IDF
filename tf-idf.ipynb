{
 "cells": [
  {
   "cell_type": "code",
   "execution_count": 23,
   "metadata": {},
   "outputs": [
    {
     "name": "stdout",
     "output_type": "stream",
     "text": [
      "Requirement already satisfied: lxml in /usr/local/python/3.12.1/lib/python3.12/site-packages (5.3.1)\n",
      "\n",
      "\u001b[1m[\u001b[0m\u001b[34;49mnotice\u001b[0m\u001b[1;39;49m]\u001b[0m\u001b[39;49m A new release of pip is available: \u001b[0m\u001b[31;49m24.3.1\u001b[0m\u001b[39;49m -> \u001b[0m\u001b[32;49m25.0.1\u001b[0m\n",
      "\u001b[1m[\u001b[0m\u001b[34;49mnotice\u001b[0m\u001b[1;39;49m]\u001b[0m\u001b[39;49m To update, run: \u001b[0m\u001b[32;49mpython -m pip install --upgrade pip\u001b[0m\n",
      "Note: you may need to restart the kernel to use updated packages.\n"
     ]
    }
   ],
   "source": [
    "%pip install lxml"
   ]
  },
  {
   "cell_type": "code",
   "execution_count": 24,
   "metadata": {},
   "outputs": [],
   "source": [
    "from lxml import etree\n",
    "from pathlib import Path"
   ]
  },
  {
   "cell_type": "markdown",
   "metadata": {},
   "source": [
    "Problem: Tf-Idf for the three homer documents in the tlg0012 folder"
   ]
  },
  {
   "cell_type": "code",
   "execution_count": 15,
   "metadata": {},
   "outputs": [],
   "source": [
    "#opening files\n",
    "files = list(Path(\"tlg0012\").glob(\"./**/*perseus-eng*.xml\")) #** is search all the subdir, then search for perseus-eng with anything after it\n",
    "#it will look at each of the files and match each of the files w perseus-eng\n",
    "\n",
    "# for f in files:\n",
    "#     print(f)"
   ]
  },
  {
   "cell_type": "code",
   "execution_count": 38,
   "metadata": {},
   "outputs": [],
   "source": [
    "TEI_NS = \"{http://www.tei-c.org/ns/1.0}\"\n",
    "XML_NS = \"{http://www.w3.org/XML/1998/namespace}\"\n",
    "NAMESPACES = {\n",
    "    \"tei\": TEI_NS,\n",
    "    \"xml\": XML_NS\n",
    "}"
   ]
  },
  {
   "cell_type": "code",
   "execution_count": null,
   "metadata": {},
   "outputs": [
    {
     "name": "stdout",
     "output_type": "stream",
     "text": [
      "[]\n",
      "[]\n",
      "[]\n",
      "[]\n",
      "[]\n"
     ]
    }
   ],
   "source": [
    "# DOESNT WORK LOL\n",
    "# iterate thru each of the files and parse using xml\n",
    "for file in files:\n",
    "    tree = etree.parse(file)\n",
    "    # print(tree)\n",
    "    # looking for a div in the namespace tei; then looking for an attribute (@) of subtype = card, then, \n",
    "    # after getting all the \"p\"'s in the same namespace, take all the text(w function \"text()\")\n",
    "    text = tree.xpath(\".//tei:div[@subtype='card']//text()\", namespaces=NAMESPACES)\n",
    "    cleaned_text =[]\n",
    "    for t in text:\n",
    "        # getting rid of all the empty strings\n",
    "        if t.strip() != \"\": \n",
    "            cleaned_text.append(t)\n",
    "    print(cleaned_text)\n",
    "    # \n",
    "    with open(str(file).split(\"/\")[-1].replace(\".xml\", \".txt\"), \"w+\") as f:\n",
    "        f.write('\\n'.join(cleaned_text))\n"
   ]
  },
  {
   "cell_type": "code",
   "execution_count": null,
   "metadata": {},
   "outputs": [],
   "source": [
    "for file in files:\n",
    "    print(file)\n",
    "    tree = etree.parse(file)\n",
    "    for p in tree.iterfind(f\"//{TEI_NS}text//{TEI_NS}p\"): #saying find every p element (in the tei namespace) in the text and get any text in that element(p)\n",
    "        print(p.text)\n"
   ]
  },
  {
   "cell_type": "markdown",
   "metadata": {},
   "source": [
    " however now we only get text within a p element; so whenever there's text in a diff element (ie \"note\") it produces whitespace"
   ]
  },
  {
   "cell_type": "code",
   "execution_count": 21,
   "metadata": {},
   "outputs": [
    {
     "name": "stdout",
     "output_type": "stream",
     "text": [
      "tlg0012/tlg001/tlg0012.tlg001.perseus-eng3.xml\n"
     ]
    },
    {
     "ename": "XPathEvalError",
     "evalue": "Invalid expression",
     "output_type": "error",
     "traceback": [
      "\u001b[0;31m---------------------------------------------------------------------------\u001b[0m",
      "\u001b[0;31mXPathEvalError\u001b[0m                            Traceback (most recent call last)",
      "Cell \u001b[0;32mIn[21], line 4\u001b[0m\n\u001b[1;32m      2\u001b[0m \u001b[38;5;28mprint\u001b[39m(file)\n\u001b[1;32m      3\u001b[0m tree \u001b[38;5;241m=\u001b[39m etree\u001b[38;5;241m.\u001b[39mparse(file)\n\u001b[0;32m----> 4\u001b[0m text \u001b[38;5;241m=\u001b[39m \u001b[43mtree\u001b[49m\u001b[38;5;241;43m.\u001b[39;49m\u001b[43mxpath\u001b[49m\u001b[43m(\u001b[49m\u001b[38;5;124;43mf\u001b[39;49m\u001b[38;5;124;43m\"\u001b[39;49m\u001b[38;5;124;43m//\u001b[39;49m\u001b[38;5;132;43;01m{\u001b[39;49;00m\u001b[43mTEI_NS\u001b[49m\u001b[38;5;132;43;01m}\u001b[39;49;00m\u001b[38;5;124;43mtext//\u001b[39;49m\u001b[38;5;132;43;01m{\u001b[39;49;00m\u001b[43mTEI_NS\u001b[49m\u001b[38;5;132;43;01m}\u001b[39;49;00m\u001b[38;5;124;43mp\u001b[39;49m\u001b[38;5;124;43m\"\u001b[39;49m\u001b[43m)\u001b[49m\n",
      "File \u001b[0;32msrc/lxml/etree.pyx:2365\u001b[0m, in \u001b[0;36mlxml.etree._ElementTree.xpath\u001b[0;34m()\u001b[0m\n",
      "File \u001b[0;32msrc/lxml/xpath.pxi:342\u001b[0m, in \u001b[0;36mlxml.etree.XPathDocumentEvaluator.__call__\u001b[0;34m()\u001b[0m\n",
      "File \u001b[0;32msrc/lxml/xpath.pxi:210\u001b[0m, in \u001b[0;36mlxml.etree._XPathEvaluatorBase._handle_result\u001b[0;34m()\u001b[0m\n",
      "\u001b[0;31mXPathEvalError\u001b[0m: Invalid expression"
     ]
    }
   ],
   "source": [
    "for file in files:\n",
    "    print(file)\n",
    "    tree = etree.parse(file)\n",
    "    text = tree.xpath(f\"//{TEI_NS}text//{TEI_NS}p\")"
   ]
  },
  {
   "cell_type": "code",
   "execution_count": null,
   "metadata": {},
   "outputs": [
    {
     "name": "stdout",
     "output_type": "stream",
     "text": [
      "[PosixPath('tlg0012.tlg003.perseus-eng1.txt'), PosixPath('tlg0012.tlg001.perseus-eng3.txt'), PosixPath('tlg0012.tlg002.perseus-eng4.txt'), PosixPath('tlg0012.tlg001.perseus-eng4.txt'), PosixPath('tlg0012.tlg002.perseus-eng3.txt')]\n"
     ]
    }
   ],
   "source": [
    "from collections import Counter\n",
    "\n",
    "text_files = list(Path(\".\").glob(\"tlg0012.tlg00*.perseus-eng*.txt\"))\n",
    "counts = {}\n",
    "\n",
    "for t in text_files:\n",
    "    name = str(t) # key in counts\n",
    "\n",
    "    with open(t) as f:\n",
    "        text = f.read().lower().split() #reading, then lowercasing, and finally splitting on yt-space\n",
    "        counts[name] = Counter(text)\n"
   ]
  },
  {
   "cell_type": "code",
   "execution_count": null,
   "metadata": {},
   "outputs": [],
   "source": [
    "# to get idf's\n",
    "term = 'ulysses'\n",
    "df_ulysses = 0\n",
    "for _, els in counts.iterms():\n",
    "    if term in els:\n",
    "        d_ulysses += 1\n",
    "\n",
    "df_ulysses\n",
    "#[1 if term in counts.ke] # doc freq is 1 if the term is in "
   ]
  }
 ],
 "metadata": {
  "kernelspec": {
   "display_name": "Python 3",
   "language": "python",
   "name": "python3"
  },
  "language_info": {
   "codemirror_mode": {
    "name": "ipython",
    "version": 3
   },
   "file_extension": ".py",
   "mimetype": "text/x-python",
   "name": "python",
   "nbconvert_exporter": "python",
   "pygments_lexer": "ipython3",
   "version": "3.12.1"
  }
 },
 "nbformat": 4,
 "nbformat_minor": 2
}
